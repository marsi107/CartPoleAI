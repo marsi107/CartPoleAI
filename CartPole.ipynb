{
 "cells": [
  {
   "cell_type": "markdown",
   "metadata": {},
   "source": [
    "## Documentation\n",
    "\n",
    "https://gymnasium.farama.org/environments/classic_control/cart_pole/"
   ]
  },
  {
   "cell_type": "markdown",
   "metadata": {},
   "source": [
    "## Code"
   ]
  },
  {
   "cell_type": "markdown",
   "metadata": {},
   "source": [
    "### Import dependencies"
   ]
  },
  {
   "cell_type": "code",
   "execution_count": 9,
   "metadata": {},
   "outputs": [],
   "source": [
    "import os\n",
    "import gymnasium as gym\n",
    "import pygame\n",
    "from pygame import gfxdraw\n",
    "import matplotlib.pyplot as plt\n",
    "from stable_baselines3 import ppo\n",
    "from stable_baselines3.common.vec_env import DummyVecEnv\n",
    "from stable_baselines3.common.evaluation import evaluate_policy\n",
    "\n"
   ]
  },
  {
   "cell_type": "markdown",
   "metadata": {},
   "source": [
    "### Load the environment"
   ]
  },
  {
   "cell_type": "code",
   "execution_count": 10,
   "metadata": {},
   "outputs": [],
   "source": [
    "envName = 'CartPole-v1'\n",
    "env = gym.make(envName)\n",
    "# env = gym.make(envName, render_mode='rgb_array')"
   ]
  },
  {
   "cell_type": "code",
   "execution_count": 13,
   "metadata": {},
   "outputs": [
    {
     "name": "stdout",
     "output_type": "stream",
     "text": [
      "Episode:1 Score:19.0\n",
      "Episode:2 Score:11.0\n",
      "Episode:3 Score:18.0\n",
      "Episode:4 Score:11.0\n",
      "Episode:5 Score:18.0\n"
     ]
    },
    {
     "name": "stderr",
     "output_type": "stream",
     "text": [
      "/Users/m.ruben_7/Library/Python/3.9/lib/python/site-packages/gymnasium/envs/classic_control/cartpole.py:215: UserWarning: \u001b[33mWARN: You are calling render method without specifying any render mode. You can specify the render_mode at initialization, e.g. gym.make(\"CartPole-v1\", render_mode=\"rgb_array\")\u001b[0m\n",
      "  gym.logger.warn(\n"
     ]
    }
   ],
   "source": [
    "episodes = 5\n",
    "for episode in range(1, episodes+1):\n",
    "    state = env.reset()\n",
    "    done = False\n",
    "    truncated = False\n",
    "    score = 0 \n",
    "    \n",
    "    while not done:\n",
    "        env.render()\n",
    "        action = env.action_space.sample()\n",
    "        n_state, reward, done, truncated, info = env.step(action)\n",
    "        score+=reward\n",
    "    print('Episode:{} Score:{}'.format(episode, score))\n",
    "env.close()"
   ]
  },
  {
   "cell_type": "code",
   "execution_count": 12,
   "metadata": {},
   "outputs": [
    {
     "name": "stdout",
     "output_type": "stream",
     "text": [
      "(array([-0.01236361,  0.1868606 , -0.030878  , -0.32226247], dtype=float32), 1.0, False, False, {})\n",
      "(array([-0.00097823,  0.1878268 , -0.04981367, -0.34382236], dtype=float32), 1.0, False, False, {})\n",
      "(array([ 0.00264725, -0.2008177 , -0.0580352 ,  0.20701745], dtype=float32), 1.0, False, False, {})\n",
      "(array([-0.00927038, -0.5893852 , -0.04427798,  0.7560648 ], dtype=float32), 1.0, False, False, {})\n",
      "(array([-0.03673548, -0.5883725 , -0.00846684,  0.7328001 ], dtype=float32), 1.0, False, False, {})\n",
      "(array([-0.05636562, -0.19810082,  0.01493845,  0.14673904], dtype=float32), 1.0, False, False, {})\n",
      "(array([-0.06039156, -0.19856925,  0.01504935,  0.15707369], dtype=float32), 1.0, False, False, {})\n",
      "(array([-0.07224101, -0.19904333,  0.02728015,  0.16757214], dtype=float32), 1.0, False, False, {})\n",
      "(array([-0.07630832,  0.19034769,  0.02830396, -0.39924508], dtype=float32), 1.0, False, False, {})\n",
      "(array([-0.06480023,  0.5798909 ,  0.00666163, -0.969089  ], dtype=float32), 1.0, False, False, {})\n",
      "(array([-0.03770395,  0.5799659 , -0.03791359, -0.97099966], dtype=float32), 1.0, False, False, {})\n",
      "(array([-0.01839718,  0.5812414 , -0.07114285, -1.0006307 ], dtype=float32), 1.0, False, False, {})\n",
      "(array([ 0.00877241,  0.58338046, -0.11745109, -1.0519639 ], dtype=float32), 1.0, False, False, {})\n",
      "(array([ 0.02823993,  0.5867179 , -0.15445708, -1.1311808 ], dtype=float32), 1.0, False, False, {})\n",
      "(array([ 0.05564403,  0.5909189 , -0.20644172, -1.2355056 ], dtype=float32), 1.0, False, False, {})\n",
      "Episode:1 Score:15.0\n",
      "(array([-0.04868624,  0.22964562,  0.01033363, -0.2706964 ], dtype=float32), 1.0, False, False, {})\n",
      "(array([-0.03560096,  0.22942795, -0.00628234, -0.2658734 ], dtype=float32), 1.0, False, False, {})\n",
      "(array([-0.03032447, -0.16055748, -0.01110338,  0.31382203], dtype=float32), 1.0, False, False, {})\n",
      "(array([-0.04064601, -0.55057365,  0.00723271,  0.8941414 ], dtype=float32), 1.0, False, False, {})\n",
      "(array([-0.06657334, -0.55100536,  0.04889732,  0.904383  ], dtype=float32), 1.0, False, False, {})\n",
      "(array([-0.08472502, -0.5525683 ,  0.0795342 ,  0.9404657 ], dtype=float32), 1.0, False, False, {})\n",
      "(array([-0.11074972, -0.5549316 ,  0.12348437,  0.99670976], dtype=float32), 1.0, False, False, {})\n",
      "(array([-0.12908152, -0.55843693,  0.15832293,  1.0793777 ], dtype=float32), 1.0, False, False, {})\n",
      "(array([-0.15535535, -0.95208955,  0.20825578,  1.7603602 ], dtype=float32), 1.0, False, False, {})\n",
      "Episode:2 Score:9.0\n",
      "(array([ 0.02522833,  0.24145073,  0.02412352, -0.2667263 ], dtype=float32), 1.0, False, False, {})\n",
      "(array([ 0.03878175,  0.24083951,  0.00775491, -0.25316092], dtype=float32), 1.0, False, False, {})\n",
      "(array([ 0.0445107 ,  0.24069093,  0.00353085, -0.24987453], dtype=float32), 1.0, False, False, {})\n",
      "(array([ 0.05803976,  0.6309048 , -0.01229547, -0.8345863 ], dtype=float32), 1.0, False, False, {})\n",
      "(array([ 0.08718171,  0.6314619 , -0.05160941, -0.84765834], dtype=float32), 1.0, False, False, {})\n",
      "(array([ 0.10855256,  0.6330935 , -0.07999539, -0.8851112 ], dtype=float32), 1.0, False, False, {})\n",
      "(array([ 0.13779853,  1.0254452 , -0.12173425, -1.5234654 ], dtype=float32), 1.0, False, False, {})\n",
      "(array([ 0.18274361,  1.4182427 , -0.18923421, -2.1873522 ], dtype=float32), 1.0, False, False, {})\n",
      "Episode:3 Score:8.0\n",
      "(array([-0.00225573,  0.24160926,  0.02580706, -0.24249874], dtype=float32), 1.0, False, False, {})\n",
      "(array([ 0.01130352,  0.63117415,  0.01041846, -0.81293726], dtype=float32), 1.0, False, False, {})\n",
      "(array([ 0.04045004,  0.6311073 , -0.02788679, -0.8114801 ], dtype=float32), 1.0, False, False, {})\n",
      "(array([ 0.06179975,  0.6320922 , -0.05467034, -0.8339491 ], dtype=float32), 1.0, False, False, {})\n",
      "(array([ 0.09099993,  1.0238947 , -0.09421556, -1.4574901 ], dtype=float32), 1.0, False, False, {})\n",
      "(array([ 0.13587858,  1.0265021 , -0.15892653, -1.5261385 ], dtype=float32), 1.0, False, False, {})\n",
      "(array([ 0.17308092,  0.64134026, -0.21518895, -1.0590956 ], dtype=float32), 1.0, True, False, {})\n",
      "Episode:4 Score:6.0\n",
      "(array([-0.03293969, -0.24139588, -0.01733781,  0.32765543], dtype=float32), 1.0, False, False, {})\n",
      "(array([-0.04649294, -0.6312364 ,  0.00151171,  0.90408754], dtype=float32), 1.0, False, False, {})\n",
      "(array([-0.07564525, -0.6315158 ,  0.04353837,  0.910767  ], dtype=float32), 1.0, False, False, {})\n",
      "(array([-0.09701575, -0.24280073,  0.07439531,  0.35946646], dtype=float32), 1.0, False, False, {})\n",
      "(array([-0.10284798, -0.24500163,  0.08340741,  0.40840518], dtype=float32), 1.0, False, False, {})\n",
      "(array([-0.11657203, -0.63746184,  0.106099  ,  1.0462178 ], dtype=float32), 1.0, False, False, {})\n",
      "(array([-0.14599766, -0.640495  ,  0.15442802,  1.1198267 ], dtype=float32), 1.0, False, False, {})\n",
      "(array([-0.16776153, -0.2553625 ,  0.19441046,  0.6470056 ], dtype=float32), 1.0, False, False, {})\n",
      "(array([-0.17413686, -0.26076773,  0.21577635,  0.7715189 ], dtype=float32), 1.0, True, False, {})\n",
      "Episode:5 Score:8.0\n"
     ]
    },
    {
     "name": "stderr",
     "output_type": "stream",
     "text": [
      "/Users/m.ruben_7/Library/Python/3.9/lib/python/site-packages/gymnasium/envs/classic_control/cartpole.py:215: UserWarning: \u001b[33mWARN: You are calling render method without specifying any render mode. You can specify the render_mode at initialization, e.g. gym.make(\"CartPole-v1\", render_mode=\"rgb_array\")\u001b[0m\n",
      "  gym.logger.warn(\n",
      "/Users/m.ruben_7/Library/Python/3.9/lib/python/site-packages/gymnasium/envs/classic_control/cartpole.py:180: UserWarning: \u001b[33mWARN: You are calling 'step()' even though this environment has already returned terminated = True. You should always call 'reset()' once you receive 'terminated = True' -- any further steps are undefined behavior.\u001b[0m\n",
      "  logger.warn(\n"
     ]
    }
   ],
   "source": [
    "# Debug Code\n",
    "episodes = 5\n",
    "for episode in range(1, episodes+1):\n",
    "    state = env.reset()\n",
    "    done = False\n",
    "    truncated = False\n",
    "    score = 0 \n",
    "    \n",
    "    while not done:\n",
    "        env.render()\n",
    "        action = env.action_space.sample()\n",
    "        done = True\n",
    "        result = env.step(action)\n",
    "        print(result)\n",
    "\n",
    "        n_state, reward, done, truncated, info = env.step(action)\n",
    "        score+=reward\n",
    "    print('Episode:{} Score:{}'.format(episode, score))\n",
    "env.close()"
   ]
  },
  {
   "cell_type": "code",
   "execution_count": 11,
   "metadata": {},
   "outputs": [
    {
     "data": {
      "text/plain": [
       "(array([-0.01272879,  0.04805091, -0.00405975,  0.03927933], dtype=float32),\n",
       " {})"
      ]
     },
     "execution_count": 11,
     "metadata": {},
     "output_type": "execute_result"
    }
   ],
   "source": [
    "env.reset()"
   ]
  },
  {
   "cell_type": "code",
   "execution_count": null,
   "metadata": {},
   "outputs": [],
   "source": [
    "env.reset()"
   ]
  },
  {
   "cell_type": "code",
   "execution_count": null,
   "metadata": {},
   "outputs": [],
   "source": [
    "env.close()"
   ]
  },
  {
   "cell_type": "markdown",
   "metadata": {},
   "source": [
    "### Train the model"
   ]
  },
  {
   "cell_type": "code",
   "execution_count": null,
   "metadata": {},
   "outputs": [],
   "source": []
  },
  {
   "cell_type": "markdown",
   "metadata": {},
   "source": [
    "### Save the model"
   ]
  },
  {
   "cell_type": "code",
   "execution_count": null,
   "metadata": {},
   "outputs": [],
   "source": []
  },
  {
   "cell_type": "markdown",
   "metadata": {},
   "source": [
    "### Evaluation of the trained model"
   ]
  },
  {
   "cell_type": "code",
   "execution_count": null,
   "metadata": {},
   "outputs": [],
   "source": []
  }
 ],
 "metadata": {
  "kernelspec": {
   "display_name": "Python 3",
   "language": "python",
   "name": "python3"
  },
  "language_info": {
   "codemirror_mode": {
    "name": "ipython",
    "version": 3
   },
   "file_extension": ".py",
   "mimetype": "text/x-python",
   "name": "python",
   "nbconvert_exporter": "python",
   "pygments_lexer": "ipython3",
   "version": "3.9.6"
  },
  "orig_nbformat": 4
 },
 "nbformat": 4,
 "nbformat_minor": 2
}
